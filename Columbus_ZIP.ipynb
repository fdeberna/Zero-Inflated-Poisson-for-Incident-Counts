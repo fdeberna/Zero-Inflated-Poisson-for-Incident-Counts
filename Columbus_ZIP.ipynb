{
 "cells": [
  {
   "cell_type": "markdown",
   "metadata": {},
   "source": [
    "# Studying Zero-inflation in Counts of Medical and Fire Incidents ###\n",
    "\n",
    "The goal of this notebook is to perform predictive analysis of the number of medical and fire incidents expected in a given area of a fire department's jurisdiction. The predictors are demographic and geographic variables. This type of analysis enables fire departments to make informed decisions about the distribution of resources. "
   ]
  },
  {
   "cell_type": "markdown",
   "metadata": {},
   "source": [
    "## Zero-Inflation in modeling incident counts ###\n",
    "\n",
    "The analysis is typically conducted at the census tract or census block level: the number of incidents in, for example, a census block, is the target variable, while the demographic and geographic characteristics of that block are the predictors. Zero-inflation arises because often splitting the jurisdiction into census blocks results in several blocks having 0 incidents. \n",
    "\n",
    "Count data can be modeled with Generalized Linear Model approaches, such as Poisson regression. Zero-inflation is introduced in GLM Poisson regression by assuming that, in addition to the regular Poisson process generating the counts, there is a second process that generates an excess of zero counts, with probability $Q_{0}$. The total probability of observing zero counts is then:\n",
    "\n",
    "\n",
    "$$P_0^{tot} = Q_0 + (1 - Q_0)\\cdot P(k=0)$$\n",
    "\n",
    "where $P(k)$ is the usual Poisson probability of observing $k$ counts, given a mean of $\\lambda$ counts: $\\frac{\\lambda^k\\exp(-\\lambda)}{k!}$.\n",
    "\n",
    "Both $P$ and $Q_0$ are modeled in terms of the predictors. "
   ]
  },
  {
   "cell_type": "markdown",
   "metadata": {},
   "source": [
    "## Analysis ###\n",
    "This notebook uses Python to analyze the count of incidents in the city of Columbus. The effect of zero inflation is explored by comparing a standard Poisson regression with a Zero-Inflated Poisson (ZIP) model.\n",
    "\n",
    "We start by importing some common libraries for data handling, statistics, and visualization."
   ]
  },
  {
   "cell_type": "code",
   "execution_count": 52,
   "metadata": {},
   "outputs": [],
   "source": [
    "import pandas as pd\n",
    "import seaborn as sns\n",
    "import matplotlib.pyplot as plt\n",
    "import numpy as np\n",
    "\n",
    "from sklearn.preprocessing import StandardScaler\n",
    "from sklearn.model_selection import train_test_split\n",
    "\n",
    "from patsy import dmatrices\n",
    "import statsmodels.api as sm\n",
    "import warnings\n",
    "warnings.filterwarnings(\"ignore\")\n",
    "# random seed for reproducibility\n",
    "np.random.seed(123456789)\n"
   ]
  },
  {
   "cell_type": "markdown",
   "metadata": {},
   "source": [
    "#### Getting the Data ####"
   ]
  },
  {
   "cell_type": "markdown",
   "metadata": {},
   "source": [
    "Data are contained in two different tables, one with incident counts, and the other with demographic variables. In this case, we are focusing on medical emergencies only. One table provides the census tract ID and the number of incidents in that census tract. The other, the demographic variables for each census tract. Counts data were collected by the Columbus Fire Department. Demographic data were provided by the U.S. Census and the American Community Survey. "
   ]
  },
  {
   "cell_type": "code",
   "execution_count": 53,
   "metadata": {},
   "outputs": [],
   "source": [
    "incidents_df = pd.read_csv('Columbus_tracts_counts.csv')\n",
    "demographic_df = pd.read_csv('Columbus_Demos.csv')"
   ]
  },
  {
   "cell_type": "code",
   "execution_count": 54,
   "metadata": {},
   "outputs": [
    {
     "data": {
      "text/html": [
       "<div>\n",
       "<style scoped>\n",
       "    .dataframe tbody tr th:only-of-type {\n",
       "        vertical-align: middle;\n",
       "    }\n",
       "\n",
       "    .dataframe tbody tr th {\n",
       "        vertical-align: top;\n",
       "    }\n",
       "\n",
       "    .dataframe thead th {\n",
       "        text-align: right;\n",
       "    }\n",
       "</style>\n",
       "<table border=\"1\" class=\"dataframe\">\n",
       "  <thead>\n",
       "    <tr style=\"text-align: right;\">\n",
       "      <th></th>\n",
       "      <th>Point_Coun</th>\n",
       "      <th>Tract_Index</th>\n",
       "    </tr>\n",
       "  </thead>\n",
       "  <tbody>\n",
       "    <tr>\n",
       "      <th>0</th>\n",
       "      <td>1501</td>\n",
       "      <td>1</td>\n",
       "    </tr>\n",
       "    <tr>\n",
       "      <th>1</th>\n",
       "      <td>3298</td>\n",
       "      <td>2</td>\n",
       "    </tr>\n",
       "    <tr>\n",
       "      <th>2</th>\n",
       "      <td>2033</td>\n",
       "      <td>3</td>\n",
       "    </tr>\n",
       "    <tr>\n",
       "      <th>3</th>\n",
       "      <td>715</td>\n",
       "      <td>4</td>\n",
       "    </tr>\n",
       "    <tr>\n",
       "      <th>4</th>\n",
       "      <td>485</td>\n",
       "      <td>5</td>\n",
       "    </tr>\n",
       "  </tbody>\n",
       "</table>\n",
       "</div>"
      ],
      "text/plain": [
       "   Point_Coun  Tract_Index\n",
       "0        1501            1\n",
       "1        3298            2\n",
       "2        2033            3\n",
       "3         715            4\n",
       "4         485            5"
      ]
     },
     "execution_count": 54,
     "metadata": {},
     "output_type": "execute_result"
    }
   ],
   "source": [
    "incidents_df.head()"
   ]
  },
  {
   "cell_type": "code",
   "execution_count": 55,
   "metadata": {},
   "outputs": [
    {
     "data": {
      "text/html": [
       "<div>\n",
       "<style scoped>\n",
       "    .dataframe tbody tr th:only-of-type {\n",
       "        vertical-align: middle;\n",
       "    }\n",
       "\n",
       "    .dataframe tbody tr th {\n",
       "        vertical-align: top;\n",
       "    }\n",
       "\n",
       "    .dataframe thead th {\n",
       "        text-align: right;\n",
       "    }\n",
       "</style>\n",
       "<table border=\"1\" class=\"dataframe\">\n",
       "  <thead>\n",
       "    <tr style=\"text-align: right;\">\n",
       "      <th></th>\n",
       "      <th>AGE_UNDER5</th>\n",
       "      <th>AGE_85_UP</th>\n",
       "      <th>VACANT</th>\n",
       "      <th>householdi</th>\n",
       "      <th>disability</th>\n",
       "      <th>educationa</th>\n",
       "      <th>businesses</th>\n",
       "      <th>employment</th>\n",
       "      <th>daytimepop</th>\n",
       "      <th>households</th>\n",
       "      <th>crime_crmc</th>\n",
       "      <th>SOURCE_ID</th>\n",
       "    </tr>\n",
       "  </thead>\n",
       "  <tbody>\n",
       "    <tr>\n",
       "      <th>0</th>\n",
       "      <td>202</td>\n",
       "      <td>58</td>\n",
       "      <td>97</td>\n",
       "      <td>34467.0</td>\n",
       "      <td>364.0</td>\n",
       "      <td>75.0</td>\n",
       "      <td>87.0</td>\n",
       "      <td>16.7</td>\n",
       "      <td>2903.0</td>\n",
       "      <td>1424.0</td>\n",
       "      <td>77.0</td>\n",
       "      <td>1</td>\n",
       "    </tr>\n",
       "    <tr>\n",
       "      <th>1</th>\n",
       "      <td>254</td>\n",
       "      <td>13</td>\n",
       "      <td>222</td>\n",
       "      <td>12880.0</td>\n",
       "      <td>345.0</td>\n",
       "      <td>59.0</td>\n",
       "      <td>26.0</td>\n",
       "      <td>16.1</td>\n",
       "      <td>2513.0</td>\n",
       "      <td>529.0</td>\n",
       "      <td>147.0</td>\n",
       "      <td>2</td>\n",
       "    </tr>\n",
       "    <tr>\n",
       "      <th>2</th>\n",
       "      <td>223</td>\n",
       "      <td>42</td>\n",
       "      <td>135</td>\n",
       "      <td>22958.0</td>\n",
       "      <td>354.0</td>\n",
       "      <td>122.0</td>\n",
       "      <td>18.0</td>\n",
       "      <td>15.9</td>\n",
       "      <td>2305.0</td>\n",
       "      <td>948.0</td>\n",
       "      <td>84.0</td>\n",
       "      <td>3</td>\n",
       "    </tr>\n",
       "    <tr>\n",
       "      <th>3</th>\n",
       "      <td>180</td>\n",
       "      <td>8</td>\n",
       "      <td>86</td>\n",
       "      <td>40611.0</td>\n",
       "      <td>117.0</td>\n",
       "      <td>9.0</td>\n",
       "      <td>205.0</td>\n",
       "      <td>13.5</td>\n",
       "      <td>4333.0</td>\n",
       "      <td>1127.0</td>\n",
       "      <td>160.0</td>\n",
       "      <td>4</td>\n",
       "    </tr>\n",
       "    <tr>\n",
       "      <th>4</th>\n",
       "      <td>617</td>\n",
       "      <td>24</td>\n",
       "      <td>118</td>\n",
       "      <td>32732.0</td>\n",
       "      <td>382.0</td>\n",
       "      <td>69.0</td>\n",
       "      <td>29.0</td>\n",
       "      <td>13.3</td>\n",
       "      <td>4213.0</td>\n",
       "      <td>2171.0</td>\n",
       "      <td>45.0</td>\n",
       "      <td>5</td>\n",
       "    </tr>\n",
       "  </tbody>\n",
       "</table>\n",
       "</div>"
      ],
      "text/plain": [
       "   AGE_UNDER5  AGE_85_UP  VACANT  householdi  disability  educationa  \\\n",
       "0         202         58      97     34467.0       364.0        75.0   \n",
       "1         254         13     222     12880.0       345.0        59.0   \n",
       "2         223         42     135     22958.0       354.0       122.0   \n",
       "3         180          8      86     40611.0       117.0         9.0   \n",
       "4         617         24     118     32732.0       382.0        69.0   \n",
       "\n",
       "   businesses  employment  daytimepop  households  crime_crmc  SOURCE_ID  \n",
       "0        87.0        16.7      2903.0      1424.0        77.0          1  \n",
       "1        26.0        16.1      2513.0       529.0       147.0          2  \n",
       "2        18.0        15.9      2305.0       948.0        84.0          3  \n",
       "3       205.0        13.5      4333.0      1127.0       160.0          4  \n",
       "4        29.0        13.3      4213.0      2171.0        45.0          5  "
      ]
     },
     "execution_count": 55,
     "metadata": {},
     "output_type": "execute_result"
    }
   ],
   "source": [
    "demographic_df.head()"
   ]
  },
  {
   "cell_type": "markdown",
   "metadata": {},
   "source": [
    "\"SOURCE_ID\" in the demographic dataframe and \"Tract_Index\" in the incidents dataframe are the columns that identify the census tract. We have to join these tables:"
   ]
  },
  {
   "cell_type": "code",
   "execution_count": 56,
   "metadata": {},
   "outputs": [],
   "source": [
    "joined_df = incidents_df.merge(demographic_df,left_on='Tract_Index',right_on='SOURCE_ID', how='left')"
   ]
  },
  {
   "cell_type": "code",
   "execution_count": 57,
   "metadata": {},
   "outputs": [
    {
     "data": {
      "text/html": [
       "<div>\n",
       "<style scoped>\n",
       "    .dataframe tbody tr th:only-of-type {\n",
       "        vertical-align: middle;\n",
       "    }\n",
       "\n",
       "    .dataframe tbody tr th {\n",
       "        vertical-align: top;\n",
       "    }\n",
       "\n",
       "    .dataframe thead th {\n",
       "        text-align: right;\n",
       "    }\n",
       "</style>\n",
       "<table border=\"1\" class=\"dataframe\">\n",
       "  <thead>\n",
       "    <tr style=\"text-align: right;\">\n",
       "      <th></th>\n",
       "      <th>Point_Coun</th>\n",
       "      <th>Tract_Index</th>\n",
       "      <th>AGE_UNDER5</th>\n",
       "      <th>AGE_85_UP</th>\n",
       "      <th>VACANT</th>\n",
       "      <th>householdi</th>\n",
       "      <th>disability</th>\n",
       "      <th>educationa</th>\n",
       "      <th>businesses</th>\n",
       "      <th>employment</th>\n",
       "      <th>daytimepop</th>\n",
       "      <th>households</th>\n",
       "      <th>crime_crmc</th>\n",
       "      <th>SOURCE_ID</th>\n",
       "    </tr>\n",
       "  </thead>\n",
       "  <tbody>\n",
       "    <tr>\n",
       "      <th>0</th>\n",
       "      <td>1501</td>\n",
       "      <td>1</td>\n",
       "      <td>202</td>\n",
       "      <td>58</td>\n",
       "      <td>97</td>\n",
       "      <td>34467.0</td>\n",
       "      <td>364.0</td>\n",
       "      <td>75.0</td>\n",
       "      <td>87.0</td>\n",
       "      <td>16.7</td>\n",
       "      <td>2903.0</td>\n",
       "      <td>1424.0</td>\n",
       "      <td>77.0</td>\n",
       "      <td>1</td>\n",
       "    </tr>\n",
       "    <tr>\n",
       "      <th>1</th>\n",
       "      <td>3298</td>\n",
       "      <td>2</td>\n",
       "      <td>254</td>\n",
       "      <td>13</td>\n",
       "      <td>222</td>\n",
       "      <td>12880.0</td>\n",
       "      <td>345.0</td>\n",
       "      <td>59.0</td>\n",
       "      <td>26.0</td>\n",
       "      <td>16.1</td>\n",
       "      <td>2513.0</td>\n",
       "      <td>529.0</td>\n",
       "      <td>147.0</td>\n",
       "      <td>2</td>\n",
       "    </tr>\n",
       "    <tr>\n",
       "      <th>2</th>\n",
       "      <td>2033</td>\n",
       "      <td>3</td>\n",
       "      <td>223</td>\n",
       "      <td>42</td>\n",
       "      <td>135</td>\n",
       "      <td>22958.0</td>\n",
       "      <td>354.0</td>\n",
       "      <td>122.0</td>\n",
       "      <td>18.0</td>\n",
       "      <td>15.9</td>\n",
       "      <td>2305.0</td>\n",
       "      <td>948.0</td>\n",
       "      <td>84.0</td>\n",
       "      <td>3</td>\n",
       "    </tr>\n",
       "    <tr>\n",
       "      <th>3</th>\n",
       "      <td>715</td>\n",
       "      <td>4</td>\n",
       "      <td>180</td>\n",
       "      <td>8</td>\n",
       "      <td>86</td>\n",
       "      <td>40611.0</td>\n",
       "      <td>117.0</td>\n",
       "      <td>9.0</td>\n",
       "      <td>205.0</td>\n",
       "      <td>13.5</td>\n",
       "      <td>4333.0</td>\n",
       "      <td>1127.0</td>\n",
       "      <td>160.0</td>\n",
       "      <td>4</td>\n",
       "    </tr>\n",
       "    <tr>\n",
       "      <th>4</th>\n",
       "      <td>485</td>\n",
       "      <td>5</td>\n",
       "      <td>617</td>\n",
       "      <td>24</td>\n",
       "      <td>118</td>\n",
       "      <td>32732.0</td>\n",
       "      <td>382.0</td>\n",
       "      <td>69.0</td>\n",
       "      <td>29.0</td>\n",
       "      <td>13.3</td>\n",
       "      <td>4213.0</td>\n",
       "      <td>2171.0</td>\n",
       "      <td>45.0</td>\n",
       "      <td>5</td>\n",
       "    </tr>\n",
       "  </tbody>\n",
       "</table>\n",
       "</div>"
      ],
      "text/plain": [
       "   Point_Coun  Tract_Index  AGE_UNDER5  AGE_85_UP  VACANT  householdi  \\\n",
       "0        1501            1         202         58      97     34467.0   \n",
       "1        3298            2         254         13     222     12880.0   \n",
       "2        2033            3         223         42     135     22958.0   \n",
       "3         715            4         180          8      86     40611.0   \n",
       "4         485            5         617         24     118     32732.0   \n",
       "\n",
       "   disability  educationa  businesses  employment  daytimepop  households  \\\n",
       "0       364.0        75.0        87.0        16.7      2903.0      1424.0   \n",
       "1       345.0        59.0        26.0        16.1      2513.0       529.0   \n",
       "2       354.0       122.0        18.0        15.9      2305.0       948.0   \n",
       "3       117.0         9.0       205.0        13.5      4333.0      1127.0   \n",
       "4       382.0        69.0        29.0        13.3      4213.0      2171.0   \n",
       "\n",
       "   crime_crmc  SOURCE_ID  \n",
       "0        77.0          1  \n",
       "1       147.0          2  \n",
       "2        84.0          3  \n",
       "3       160.0          4  \n",
       "4        45.0          5  "
      ]
     },
     "execution_count": 57,
     "metadata": {},
     "output_type": "execute_result"
    }
   ],
   "source": [
    "joined_df.head()"
   ]
  },
  {
   "cell_type": "markdown",
   "metadata": {},
   "source": [
    "#### Preparing features and target variable ####"
   ]
  },
  {
   "cell_type": "markdown",
   "metadata": {},
   "source": [
    "For every census tract, the available features are:\n",
    "\n",
    "- **AGE_UNDER5**: number of people younger than 5\n",
    "- **AGE_85_UP**: number of people older than 85\n",
    "- **VACANT**: number of vacant buildings\n",
    "- **householdi**: average household income\n",
    "- **disability**: number of people living with a disability\n",
    "- **educationa**: educational attainment (expressed as the number of people with education level lower than 9th grade)\n",
    "- **businesses**: number of businesses\n",
    "- **employment**: unemployment rate\n",
    "- **daytimepop**: daytime population\n",
    "- **households**: number of households\n",
    "- **crime_crmc**: crime rate\n",
    "\n",
    "We are going to separate features and target variables (the number of incidents, given by the **Point_Coun** column):"
   ]
  },
  {
   "cell_type": "code",
   "execution_count": 58,
   "metadata": {},
   "outputs": [],
   "source": [
    "features_cols = ['AGE_UNDER5', 'AGE_85_UP',\n",
    "       'VACANT', 'householdi', 'disability', 'educationa', 'businesses',\n",
    "       'employment', 'daytimepop', 'households', 'crime_crmc']"
   ]
  },
  {
   "cell_type": "code",
   "execution_count": 59,
   "metadata": {},
   "outputs": [],
   "source": [
    "features = joined_df[features_cols]\n",
    "counts = joined_df.Point_Coun"
   ]
  },
  {
   "cell_type": "markdown",
   "metadata": {},
   "source": [
    "Now create train and test samples:"
   ]
  },
  {
   "cell_type": "code",
   "execution_count": 60,
   "metadata": {},
   "outputs": [],
   "source": [
    "X_train, X_test, y_train, y_test = train_test_split(features, counts, test_size=0.3)"
   ]
  },
  {
   "cell_type": "markdown",
   "metadata": {},
   "source": [
    "Looking at the table above, we can see that the features have vastly different numerical ranges. It is important to scale the features. We can use sklearn Standard Scaler:"
   ]
  },
  {
   "cell_type": "code",
   "execution_count": 61,
   "metadata": {},
   "outputs": [],
   "source": [
    "std = StandardScaler()\n",
    "X_train_std = std.fit_transform(X_train)\n",
    "X_test_std = std.transform(X_test)\n",
    "\n",
    "X_train_scaled_df = pd.DataFrame(X_train_std,columns=X_train.columns)\n",
    "X_test_scaled_df = pd.DataFrame(X_test_std,columns=X_test.columns)"
   ]
  },
  {
   "cell_type": "markdown",
   "metadata": {},
   "source": [
    "## Model Fitting ##\n",
    "\n",
    "### Poisson Regression ###"
   ]
  },
  {
   "cell_type": "markdown",
   "metadata": {},
   "source": [
    "We will start with a standard **Poisson regression**, with no Zero-Inflation. The count of incidents is assumed to come from a Poisson distribution $\\frac{\\lambda^k\\exp(-\\lambda)}{k!}$, where the expected value is dependent on the features ($\\bar{x}$): $\\log \\lambda = \\alpha + \\bar{\\beta}\\cdot\\bar{x}$, with $\\alpha$ and $\\beta$ being the coefficients of the regression."
   ]
  },
  {
   "cell_type": "code",
   "execution_count": 62,
   "metadata": {},
   "outputs": [],
   "source": [
    "from sklearn.linear_model import PoissonRegressor\n",
    "\n",
    "reg = PoissonRegressor(max_iter=1000).fit(X_train_scaled_df, y_train.values)"
   ]
  },
  {
   "cell_type": "markdown",
   "metadata": {},
   "source": [
    "After fitting the model we can calculated predicted counts for the target sample:"
   ]
  },
  {
   "cell_type": "code",
   "execution_count": 63,
   "metadata": {},
   "outputs": [],
   "source": [
    "poisson_predictions = reg.predict(X_test_scaled_df)"
   ]
  },
  {
   "cell_type": "markdown",
   "metadata": {},
   "source": [
    "We will look at a quantitative evaluation of the model below in this notebook. For now, let's look at a few predicted values, side by side with the expected test values."
   ]
  },
  {
   "cell_type": "code",
   "execution_count": 75,
   "metadata": {},
   "outputs": [
    {
     "data": {
      "text/html": [
       "<div>\n",
       "<style scoped>\n",
       "    .dataframe tbody tr th:only-of-type {\n",
       "        vertical-align: middle;\n",
       "    }\n",
       "\n",
       "    .dataframe tbody tr th {\n",
       "        vertical-align: top;\n",
       "    }\n",
       "\n",
       "    .dataframe thead th {\n",
       "        text-align: right;\n",
       "    }\n",
       "</style>\n",
       "<table border=\"1\" class=\"dataframe\">\n",
       "  <thead>\n",
       "    <tr style=\"text-align: right;\">\n",
       "      <th></th>\n",
       "      <th>prediction</th>\n",
       "      <th>test target</th>\n",
       "    </tr>\n",
       "  </thead>\n",
       "  <tbody>\n",
       "    <tr>\n",
       "      <th>0</th>\n",
       "      <td>445.044226</td>\n",
       "      <td>253</td>\n",
       "    </tr>\n",
       "    <tr>\n",
       "      <th>1</th>\n",
       "      <td>593.202677</td>\n",
       "      <td>445</td>\n",
       "    </tr>\n",
       "    <tr>\n",
       "      <th>2</th>\n",
       "      <td>4010.133105</td>\n",
       "      <td>3893</td>\n",
       "    </tr>\n",
       "    <tr>\n",
       "      <th>3</th>\n",
       "      <td>1166.782624</td>\n",
       "      <td>2048</td>\n",
       "    </tr>\n",
       "    <tr>\n",
       "      <th>4</th>\n",
       "      <td>879.211667</td>\n",
       "      <td>1118</td>\n",
       "    </tr>\n",
       "    <tr>\n",
       "      <th>5</th>\n",
       "      <td>251.154807</td>\n",
       "      <td>2</td>\n",
       "    </tr>\n",
       "    <tr>\n",
       "      <th>6</th>\n",
       "      <td>4579.252527</td>\n",
       "      <td>4520</td>\n",
       "    </tr>\n",
       "    <tr>\n",
       "      <th>7</th>\n",
       "      <td>1535.975654</td>\n",
       "      <td>3505</td>\n",
       "    </tr>\n",
       "    <tr>\n",
       "      <th>8</th>\n",
       "      <td>471.241623</td>\n",
       "      <td>0</td>\n",
       "    </tr>\n",
       "    <tr>\n",
       "      <th>9</th>\n",
       "      <td>1750.461313</td>\n",
       "      <td>2384</td>\n",
       "    </tr>\n",
       "  </tbody>\n",
       "</table>\n",
       "</div>"
      ],
      "text/plain": [
       "    prediction  test target\n",
       "0   445.044226          253\n",
       "1   593.202677          445\n",
       "2  4010.133105         3893\n",
       "3  1166.782624         2048\n",
       "4   879.211667         1118\n",
       "5   251.154807            2\n",
       "6  4579.252527         4520\n",
       "7  1535.975654         3505\n",
       "8   471.241623            0\n",
       "9  1750.461313         2384"
      ]
     },
     "execution_count": 75,
     "metadata": {},
     "output_type": "execute_result"
    }
   ],
   "source": [
    "pd.DataFrame({'prediction':poisson_predictions,'test target':y_test}).reset_index(drop=True).head(10)"
   ]
  },
  {
   "cell_type": "markdown",
   "metadata": {},
   "source": [
    "While some predicted values are close to the test target value, we can also observe significant differences. For example, for entry 8, we have a census tract with 0 incidents reported, while the model predicts 471 incidents.  "
   ]
  },
  {
   "cell_type": "markdown",
   "metadata": {},
   "source": [
    "### ZIP Rregression ###"
   ]
  },
  {
   "cell_type": "markdown",
   "metadata": {},
   "source": [
    "We will implement a ZIP regression, to see if this can help us improve the performance of the model, in particular for cases with 0 counts.  "
   ]
  },
  {
   "cell_type": "markdown",
   "metadata": {},
   "source": [
    "ZIP regression is available under the statsmodels module. This requires some work to write the model as an expression. We use the patsy library to help format the data:"
   ]
  },
  {
   "cell_type": "code",
   "execution_count": 76,
   "metadata": {},
   "outputs": [],
   "source": [
    "# concatenate train features and counts\n",
    "df_train = pd.concat([X_train_scaled_df.reset_index(drop=True),y_train.reset_index(drop=True)],axis=1)\n",
    "# concatenate test features and counts\n",
    "df_test = pd.concat([X_test_scaled_df.reset_index(drop=True),y_test.reset_index(drop=True)],axis=1)\n",
    "# create the model expression: we need to join the features column names and, after that, \n",
    "#add the target variable name at the beginning, followed by ~\n",
    "model_expression = [c+' + ' for c in df_train.columns[:-1]]\n",
    "model_expression = 'Point_Coun ~ ' + ''.join(model_expression)[:-3]\n",
    "\n",
    "# now create dataframes for the train and test samples\n",
    "dy_test, dX_test = dmatrices(model_expression, df_test, return_type='dataframe')\n",
    "dy_train, dX_train = dmatrices(model_expression, df_train, return_type='dataframe')"
   ]
  },
  {
   "cell_type": "code",
   "execution_count": 77,
   "metadata": {},
   "outputs": [
    {
     "data": {
      "text/plain": [
       "'Point_Coun ~ AGE_UNDER5 + AGE_85_UP + VACANT + householdi + disability + educationa + businesses + employment + daytimepop + households + crime_crmc'"
      ]
     },
     "execution_count": 77,
     "metadata": {},
     "output_type": "execute_result"
    }
   ],
   "source": [
    "# check the model expression\n",
    "model_expression"
   ]
  },
  {
   "cell_type": "markdown",
   "metadata": {},
   "source": [
    "We can finally fit a ZIP model:"
   ]
  },
  {
   "cell_type": "code",
   "execution_count": 78,
   "metadata": {},
   "outputs": [
    {
     "name": "stdout",
     "output_type": "stream",
     "text": [
      "Optimization terminated successfully.\n",
      "         Current function value: 175.635325\n",
      "         Iterations: 60\n",
      "         Function evaluations: 70\n",
      "         Gradient evaluations: 70\n"
     ]
    }
   ],
   "source": [
    "zip_training_results = sm.ZeroInflatedPoisson(endog=dy_train, exog=dX_train, exog_infl=dX_train, inflation='logit').fit(maxiter=10000)"
   ]
  },
  {
   "cell_type": "markdown",
   "metadata": {},
   "source": [
    "Like before, we can predict the values for the test sample:"
   ]
  },
  {
   "cell_type": "code",
   "execution_count": 79,
   "metadata": {},
   "outputs": [],
   "source": [
    "zip_predictions = zip_training_results.predict(dX_test,exog_infl=dX_test)"
   ]
  },
  {
   "cell_type": "markdown",
   "metadata": {},
   "source": [
    "Let's now compare the first few values like we did before"
   ]
  },
  {
   "cell_type": "code",
   "execution_count": 83,
   "metadata": {},
   "outputs": [
    {
     "data": {
      "text/html": [
       "<div>\n",
       "<style scoped>\n",
       "    .dataframe tbody tr th:only-of-type {\n",
       "        vertical-align: middle;\n",
       "    }\n",
       "\n",
       "    .dataframe tbody tr th {\n",
       "        vertical-align: top;\n",
       "    }\n",
       "\n",
       "    .dataframe thead th {\n",
       "        text-align: right;\n",
       "    }\n",
       "</style>\n",
       "<table border=\"1\" class=\"dataframe\">\n",
       "  <thead>\n",
       "    <tr style=\"text-align: right;\">\n",
       "      <th></th>\n",
       "      <th>Poisson predictions</th>\n",
       "      <th>ZIP predictions</th>\n",
       "      <th>test target</th>\n",
       "    </tr>\n",
       "  </thead>\n",
       "  <tbody>\n",
       "    <tr>\n",
       "      <th>0</th>\n",
       "      <td>445.044226</td>\n",
       "      <td>508.334443</td>\n",
       "      <td>253</td>\n",
       "    </tr>\n",
       "    <tr>\n",
       "      <th>1</th>\n",
       "      <td>593.202677</td>\n",
       "      <td>607.215708</td>\n",
       "      <td>445</td>\n",
       "    </tr>\n",
       "    <tr>\n",
       "      <th>2</th>\n",
       "      <td>4010.133105</td>\n",
       "      <td>3835.340622</td>\n",
       "      <td>3893</td>\n",
       "    </tr>\n",
       "    <tr>\n",
       "      <th>3</th>\n",
       "      <td>1166.782624</td>\n",
       "      <td>1240.293601</td>\n",
       "      <td>2048</td>\n",
       "    </tr>\n",
       "    <tr>\n",
       "      <th>4</th>\n",
       "      <td>879.211667</td>\n",
       "      <td>943.753095</td>\n",
       "      <td>1118</td>\n",
       "    </tr>\n",
       "    <tr>\n",
       "      <th>5</th>\n",
       "      <td>251.154807</td>\n",
       "      <td>137.758067</td>\n",
       "      <td>2</td>\n",
       "    </tr>\n",
       "    <tr>\n",
       "      <th>6</th>\n",
       "      <td>4579.252527</td>\n",
       "      <td>5883.513340</td>\n",
       "      <td>4520</td>\n",
       "    </tr>\n",
       "    <tr>\n",
       "      <th>7</th>\n",
       "      <td>1535.975654</td>\n",
       "      <td>1519.824637</td>\n",
       "      <td>3505</td>\n",
       "    </tr>\n",
       "    <tr>\n",
       "      <th>8</th>\n",
       "      <td>471.241623</td>\n",
       "      <td>0.000000</td>\n",
       "      <td>0</td>\n",
       "    </tr>\n",
       "    <tr>\n",
       "      <th>9</th>\n",
       "      <td>1750.461313</td>\n",
       "      <td>1878.436596</td>\n",
       "      <td>2384</td>\n",
       "    </tr>\n",
       "  </tbody>\n",
       "</table>\n",
       "</div>"
      ],
      "text/plain": [
       "   Poisson predictions  ZIP predictions  test target\n",
       "0           445.044226       508.334443          253\n",
       "1           593.202677       607.215708          445\n",
       "2          4010.133105      3835.340622         3893\n",
       "3          1166.782624      1240.293601         2048\n",
       "4           879.211667       943.753095         1118\n",
       "5           251.154807       137.758067            2\n",
       "6          4579.252527      5883.513340         4520\n",
       "7          1535.975654      1519.824637         3505\n",
       "8           471.241623         0.000000            0\n",
       "9          1750.461313      1878.436596         2384"
      ]
     },
     "execution_count": 83,
     "metadata": {},
     "output_type": "execute_result"
    }
   ],
   "source": [
    "pd.DataFrame({'Poisson predictions':poisson_predictions,'ZIP predictions':zip_predictions.values,'test target':y_test}).reset_index(drop=True).head(10)"
   ]
  },
  {
   "cell_type": "markdown",
   "metadata": {},
   "source": [
    "### Model Comparison ###"
   ]
  },
  {
   "cell_type": "markdown",
   "metadata": {},
   "source": [
    "We can see that most of the ZIP predicted values are similar to those of the Poisson model. However, the ZIP model does a better job for census tracts with 0 counts: for example, for entry 8, the ZIP model predicts 0 incidents, instead of the 471 predicted by the Poisson model."
   ]
  },
  {
   "cell_type": "markdown",
   "metadata": {},
   "source": [
    "We can further investigate the difference by plotting a histogram of the counts of the test values, Poisson predictions, and ZIP predictions. Note that this is plotted as a distribution."
   ]
  },
  {
   "cell_type": "code",
   "execution_count": 86,
   "metadata": {},
   "outputs": [
    {
     "data": {
      "image/png": "[encoded data removed]",
      "text/plain": [
       "<Figure size 432x288 with 1 Axes>"
      ]
     },
     "metadata": {
      "needs_background": "light"
     },
     "output_type": "display_data"
    }
   ],
   "source": [
    "maxr=10000\n",
    "bs=40\n",
    "plt.hist(p,bins=bs,range=[0,maxr],histtype=u'step',color='b',density=True,label='Poisson')\n",
    "plt.hist(zip_predictions.values,range=[0,maxr],bins=bs,color='k',histtype=u'step',density=True,label='ZIP')\n",
    "plt.hist(y_test.values,range=[0,maxr],bins=bs,color='k',histtype=u'barstacked',density=True,alpha=0.3,label='test counts')\n",
    "plt.legend()\n",
    "plt.show()"
   ]
  },
  {
   "cell_type": "markdown",
   "metadata": {},
   "source": [
    "The figure shows that the ZIP model is much more successfull in modeling the 0 counts, as expected. It also performs better than the Poisson model in the range 0 - 2000. To quantify the improvment we can calculate the RMSE:"
   ]
  },
  {
   "cell_type": "code",
   "execution_count": 89,
   "metadata": {},
   "outputs": [],
   "source": [
    "def rmse(theory, model):\n",
    "    return np.sqrt(np.sum(np.power(np.subtract(model,theory),2)))"
   ]
  },
  {
   "cell_type": "code",
   "execution_count": 92,
   "metadata": {},
   "outputs": [
    {
     "name": "stdout",
     "output_type": "stream",
     "text": [
      "Poisson RMSE: 82221.9261103447\n",
      "ZIP RMSE: 14955.06639175858\n"
     ]
    }
   ],
   "source": [
    "print('Poisson RMSE:',rmse(y_test,poisson_predictions))\n",
    "print('ZIP RMSE:',rmse(y_test,zip_predictions))      "
   ]
  },
  {
   "cell_type": "markdown",
   "metadata": {},
   "source": [
    "Another metric often used with GLM regressions is the pseudo R-squared, which measures how well the model performs compared to an intercept-only model. The sklearn and statsmodel libraries provide the McFadden's version: $$R^2 = 1 - \\frac{\\log \\ell_{Model}}{\\log \\ell_{Intercept}}$$"
   ]
  },
  {
   "cell_type": "markdown",
   "metadata": {},
   "source": [
    "Where $\\ell_{Model}$ and $\\ell_{Intercep}$ are the likelihoods for the fitted and the intercept-only models respectively."
   ]
  },
  {
   "cell_type": "markdown",
   "metadata": {},
   "source": [
    "Let's print the pseudo R-squared values for the two models:"
   ]
  },
  {
   "cell_type": "code",
   "execution_count": 118,
   "metadata": {},
   "outputs": [
    {
     "name": "stdout",
     "output_type": "stream",
     "text": [
      "Poisson pseudo R-sq: 0.6258547411773792\n",
      "ZIP RMSE: 0.639313083290299\n"
     ]
    }
   ],
   "source": [
    "print('Poisson pseudo R-sq:',reg.score(X_train_scaled_df,y_train))\n",
    "print('ZIP RMSE:',zip_training_results.prsquared)"
   ]
  },
  {
   "cell_type": "markdown",
   "metadata": {},
   "source": [
    "### Discussion ###"
   ]
  },
  {
   "cell_type": "markdown",
   "metadata": {},
   "source": [
    "The pseudo R-suared values are quite similar. The ZIP model offers a slight improvement over the Poisson regression when compared to the incercept-only model. It should be noted that these values are calculated on the train set. This means that both the ZIP and Poisson models can explain the variability of the dataset when compared to an intercept-only model. However, when looking at unseen data (the test set) the RMSE values shown above show a factor $\\sim 5$ improvement when using the ZIP model rather than the simple Poisson.   \n",
    "\n",
    "We can look in particular at the test data that have low incidents counts (or 0 incidents). Here is the comparison: "
   ]
  },
  {
   "cell_type": "code",
   "execution_count": 142,
   "metadata": {},
   "outputs": [],
   "source": [
    "# create a dataframe with the test dataset and the predicitons from the two models\n",
    "df_comparison = pd.DataFrame({'Poisson predictions':poisson_predictions,'ZIP predictions':zip_predictions.values,'test target':y_test}).reset_index(drop=True)\n",
    "# round to closest integer\n",
    "for c in df_comparison.columns: df_comparison[c] = df_comparison[c].apply(lambda x: round(x))"
   ]
  },
  {
   "cell_type": "code",
   "execution_count": 144,
   "metadata": {},
   "outputs": [
    {
     "data": {
      "text/html": [
       "<div>\n",
       "<style scoped>\n",
       "    .dataframe tbody tr th:only-of-type {\n",
       "        vertical-align: middle;\n",
       "    }\n",
       "\n",
       "    .dataframe tbody tr th {\n",
       "        vertical-align: top;\n",
       "    }\n",
       "\n",
       "    .dataframe thead th {\n",
       "        text-align: right;\n",
       "    }\n",
       "</style>\n",
       "<table border=\"1\" class=\"dataframe\">\n",
       "  <thead>\n",
       "    <tr style=\"text-align: right;\">\n",
       "      <th></th>\n",
       "      <th>Poisson predictions</th>\n",
       "      <th>ZIP predictions</th>\n",
       "      <th>test target</th>\n",
       "    </tr>\n",
       "  </thead>\n",
       "  <tbody>\n",
       "    <tr>\n",
       "      <th>76</th>\n",
       "      <td>445</td>\n",
       "      <td>0</td>\n",
       "      <td>0</td>\n",
       "    </tr>\n",
       "    <tr>\n",
       "      <th>60</th>\n",
       "      <td>359</td>\n",
       "      <td>0</td>\n",
       "      <td>0</td>\n",
       "    </tr>\n",
       "    <tr>\n",
       "      <th>58</th>\n",
       "      <td>395</td>\n",
       "      <td>0</td>\n",
       "      <td>0</td>\n",
       "    </tr>\n",
       "    <tr>\n",
       "      <th>8</th>\n",
       "      <td>471</td>\n",
       "      <td>0</td>\n",
       "      <td>0</td>\n",
       "    </tr>\n",
       "    <tr>\n",
       "      <th>37</th>\n",
       "      <td>515</td>\n",
       "      <td>0</td>\n",
       "      <td>0</td>\n",
       "    </tr>\n",
       "    <tr>\n",
       "      <th>5</th>\n",
       "      <td>251</td>\n",
       "      <td>138</td>\n",
       "      <td>2</td>\n",
       "    </tr>\n",
       "    <tr>\n",
       "      <th>51</th>\n",
       "      <td>505</td>\n",
       "      <td>0</td>\n",
       "      <td>2</td>\n",
       "    </tr>\n",
       "    <tr>\n",
       "      <th>72</th>\n",
       "      <td>325</td>\n",
       "      <td>342</td>\n",
       "      <td>11</td>\n",
       "    </tr>\n",
       "    <tr>\n",
       "      <th>26</th>\n",
       "      <td>451</td>\n",
       "      <td>0</td>\n",
       "      <td>39</td>\n",
       "    </tr>\n",
       "    <tr>\n",
       "      <th>80</th>\n",
       "      <td>543</td>\n",
       "      <td>0</td>\n",
       "      <td>49</td>\n",
       "    </tr>\n",
       "    <tr>\n",
       "      <th>53</th>\n",
       "      <td>509</td>\n",
       "      <td>666</td>\n",
       "      <td>60</td>\n",
       "    </tr>\n",
       "    <tr>\n",
       "      <th>32</th>\n",
       "      <td>571</td>\n",
       "      <td>0</td>\n",
       "      <td>112</td>\n",
       "    </tr>\n",
       "    <tr>\n",
       "      <th>36</th>\n",
       "      <td>576</td>\n",
       "      <td>726</td>\n",
       "      <td>169</td>\n",
       "    </tr>\n",
       "    <tr>\n",
       "      <th>0</th>\n",
       "      <td>445</td>\n",
       "      <td>508</td>\n",
       "      <td>253</td>\n",
       "    </tr>\n",
       "    <tr>\n",
       "      <th>59</th>\n",
       "      <td>817</td>\n",
       "      <td>883</td>\n",
       "      <td>405</td>\n",
       "    </tr>\n",
       "    <tr>\n",
       "      <th>1</th>\n",
       "      <td>593</td>\n",
       "      <td>607</td>\n",
       "      <td>445</td>\n",
       "    </tr>\n",
       "    <tr>\n",
       "      <th>77</th>\n",
       "      <td>891</td>\n",
       "      <td>1052</td>\n",
       "      <td>538</td>\n",
       "    </tr>\n",
       "    <tr>\n",
       "      <th>20</th>\n",
       "      <td>731</td>\n",
       "      <td>934</td>\n",
       "      <td>593</td>\n",
       "    </tr>\n",
       "    <tr>\n",
       "      <th>24</th>\n",
       "      <td>722</td>\n",
       "      <td>616</td>\n",
       "      <td>686</td>\n",
       "    </tr>\n",
       "    <tr>\n",
       "      <th>47</th>\n",
       "      <td>838</td>\n",
       "      <td>852</td>\n",
       "      <td>715</td>\n",
       "    </tr>\n",
       "    <tr>\n",
       "      <th>46</th>\n",
       "      <td>1326</td>\n",
       "      <td>1544</td>\n",
       "      <td>739</td>\n",
       "    </tr>\n",
       "    <tr>\n",
       "      <th>42</th>\n",
       "      <td>614</td>\n",
       "      <td>473</td>\n",
       "      <td>746</td>\n",
       "    </tr>\n",
       "    <tr>\n",
       "      <th>64</th>\n",
       "      <td>511</td>\n",
       "      <td>549</td>\n",
       "      <td>810</td>\n",
       "    </tr>\n",
       "    <tr>\n",
       "      <th>71</th>\n",
       "      <td>1239</td>\n",
       "      <td>1474</td>\n",
       "      <td>842</td>\n",
       "    </tr>\n",
       "    <tr>\n",
       "      <th>17</th>\n",
       "      <td>579</td>\n",
       "      <td>508</td>\n",
       "      <td>874</td>\n",
       "    </tr>\n",
       "    <tr>\n",
       "      <th>73</th>\n",
       "      <td>1133</td>\n",
       "      <td>1271</td>\n",
       "      <td>878</td>\n",
       "    </tr>\n",
       "    <tr>\n",
       "      <th>33</th>\n",
       "      <td>547</td>\n",
       "      <td>615</td>\n",
       "      <td>921</td>\n",
       "    </tr>\n",
       "    <tr>\n",
       "      <th>79</th>\n",
       "      <td>1187</td>\n",
       "      <td>1229</td>\n",
       "      <td>1065</td>\n",
       "    </tr>\n",
       "    <tr>\n",
       "      <th>16</th>\n",
       "      <td>839</td>\n",
       "      <td>684</td>\n",
       "      <td>1107</td>\n",
       "    </tr>\n",
       "    <tr>\n",
       "      <th>4</th>\n",
       "      <td>879</td>\n",
       "      <td>944</td>\n",
       "      <td>1118</td>\n",
       "    </tr>\n",
       "    <tr>\n",
       "      <th>40</th>\n",
       "      <td>2626</td>\n",
       "      <td>2956</td>\n",
       "      <td>1150</td>\n",
       "    </tr>\n",
       "    <tr>\n",
       "      <th>25</th>\n",
       "      <td>1317</td>\n",
       "      <td>1516</td>\n",
       "      <td>1208</td>\n",
       "    </tr>\n",
       "    <tr>\n",
       "      <th>70</th>\n",
       "      <td>1365</td>\n",
       "      <td>1553</td>\n",
       "      <td>1285</td>\n",
       "    </tr>\n",
       "    <tr>\n",
       "      <th>63</th>\n",
       "      <td>1444</td>\n",
       "      <td>1525</td>\n",
       "      <td>1365</td>\n",
       "    </tr>\n",
       "    <tr>\n",
       "      <th>65</th>\n",
       "      <td>1095</td>\n",
       "      <td>979</td>\n",
       "      <td>1374</td>\n",
       "    </tr>\n",
       "    <tr>\n",
       "      <th>22</th>\n",
       "      <td>912</td>\n",
       "      <td>950</td>\n",
       "      <td>1501</td>\n",
       "    </tr>\n",
       "    <tr>\n",
       "      <th>10</th>\n",
       "      <td>680</td>\n",
       "      <td>775</td>\n",
       "      <td>1513</td>\n",
       "    </tr>\n",
       "    <tr>\n",
       "      <th>68</th>\n",
       "      <td>1076</td>\n",
       "      <td>1053</td>\n",
       "      <td>1527</td>\n",
       "    </tr>\n",
       "    <tr>\n",
       "      <th>67</th>\n",
       "      <td>2017</td>\n",
       "      <td>1988</td>\n",
       "      <td>1543</td>\n",
       "    </tr>\n",
       "    <tr>\n",
       "      <th>52</th>\n",
       "      <td>1472</td>\n",
       "      <td>1648</td>\n",
       "      <td>1555</td>\n",
       "    </tr>\n",
       "  </tbody>\n",
       "</table>\n",
       "</div>"
      ],
      "text/plain": [
       "    Poisson predictions  ZIP predictions  test target\n",
       "76                  445                0            0\n",
       "60                  359                0            0\n",
       "58                  395                0            0\n",
       "8                   471                0            0\n",
       "37                  515                0            0\n",
       "5                   251              138            2\n",
       "51                  505                0            2\n",
       "72                  325              342           11\n",
       "26                  451                0           39\n",
       "80                  543                0           49\n",
       "53                  509              666           60\n",
       "32                  571                0          112\n",
       "36                  576              726          169\n",
       "0                   445              508          253\n",
       "59                  817              883          405\n",
       "1                   593              607          445\n",
       "77                  891             1052          538\n",
       "20                  731              934          593\n",
       "24                  722              616          686\n",
       "47                  838              852          715\n",
       "46                 1326             1544          739\n",
       "42                  614              473          746\n",
       "64                  511              549          810\n",
       "71                 1239             1474          842\n",
       "17                  579              508          874\n",
       "73                 1133             1271          878\n",
       "33                  547              615          921\n",
       "79                 1187             1229         1065\n",
       "16                  839              684         1107\n",
       "4                   879              944         1118\n",
       "40                 2626             2956         1150\n",
       "25                 1317             1516         1208\n",
       "70                 1365             1553         1285\n",
       "63                 1444             1525         1365\n",
       "65                 1095              979         1374\n",
       "22                  912              950         1501\n",
       "10                  680              775         1513\n",
       "68                 1076             1053         1527\n",
       "67                 2017             1988         1543\n",
       "52                 1472             1648         1555"
      ]
     },
     "execution_count": 144,
     "metadata": {},
     "output_type": "execute_result"
    }
   ],
   "source": [
    "# sort by counts in the test data set\n",
    "df_comparison.sort_values(['test target']).head(40)"
   ]
  },
  {
   "cell_type": "markdown",
   "metadata": {},
   "source": [
    "As expected, the ZIP model predictions are more accurate, in particular for census tracts that have a low number of incident counts. \n",
    "\n",
    "We conclude that, when planning the distribution of fire departments' resources, it is important to consider the effect of zero-inflated incidents counts. Overpredicting the number of incidents can mislead the distribution of already limited resources, and affect the accuracy of the risk assessment analysis."
   ]
  }
 ],
 "metadata": {
  "kernelspec": {
   "display_name": "Python 3",
   "language": "python",
   "name": "python3"
  },
  "language_info": {
   "codemirror_mode": {
    "name": "ipython",
    "version": 3
   },
   "file_extension": ".py",
   "mimetype": "text/x-python",
   "name": "python",
   "nbconvert_exporter": "python",
   "pygments_lexer": "ipython3",
   "version": "3.7.0"
  }
 },
 "nbformat": 4,
 "nbformat_minor": 2
}
